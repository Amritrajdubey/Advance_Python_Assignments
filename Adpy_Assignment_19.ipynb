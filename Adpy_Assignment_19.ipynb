{
 "cells": [
  {
   "cell_type": "markdown",
   "id": "91cdc72f",
   "metadata": {},
   "source": [
    "Q1. Define the relationship between a class and its instances. Is it a one-to-one or a one-to-many partnership, for example?"
   ]
  },
  {
   "cell_type": "markdown",
   "id": "a47ba8be",
   "metadata": {},
   "source": [
    "Class is a blueprint or a template that hold similar kind of objects inside it and defines the property common to all defined objects.\n",
    "\n",
    "Instance are individual objects defined within the class with each instances defining unique realization of the class.\n",
    "\n",
    "One to many : We can create one class and multiple instances under it with each instances can be independent entity."
   ]
  },
  {
   "cell_type": "markdown",
   "id": "c4717719",
   "metadata": {},
   "source": [
    "Q2. What kind of data is held only in an instance?"
   ]
  },
  {
   "cell_type": "markdown",
   "id": "0344f234",
   "metadata": {},
   "source": [
    "Instance are object created from a class and data held within it typically consist of attributes defined in the class from which instance is created. These attributes can be of various types like - integers , string , lists , dictnaries and other objects."
   ]
  },
  {
   "cell_type": "markdown",
   "id": "46a54f71",
   "metadata": {},
   "source": [
    "Q3. What kind of knowledge is stored in a class?"
   ]
  },
  {
   "cell_type": "markdown",
   "id": "e367fe3f",
   "metadata": {},
   "source": [
    "A class is blueprint for creating objects and defines the properties and behavious of objects being created within class. \n",
    "\n",
    "Knowledge stores in class include:\n",
    "- Class attributes which are variables that's being shared among all instances of the class.\n",
    "- Methods that are functions defined within the class that describes the behaviours objects can perform.\n",
    "- Instance method which used to specify the instances of the class.\n",
    "- Instance method that can be"
   ]
  },
  {
   "cell_type": "markdown",
   "id": "9b312669",
   "metadata": {},
   "source": [
    "Q4. What exactly is a method, and how is it different from a regular function?"
   ]
  },
  {
   "cell_type": "markdown",
   "id": "c3149b12",
   "metadata": {},
   "source": [
    "- Method is a function that is that is associsted with a class or an object. In OOPS method defines the behaviours of objects created from class.Methods can access and modify it's attributes.\n",
    "\n",
    "- Regular function is set of codes defined to perfoem specific tasks and not associated with any class or objects."
   ]
  },
  {
   "cell_type": "markdown",
   "id": "b16631c1",
   "metadata": {},
   "source": [
    "Q5. Is inheritance supported in Python, and if so, what is the syntax?"
   ]
  },
  {
   "cell_type": "markdown",
   "id": "245ed18c",
   "metadata": {},
   "source": [
    "Inheritance is supported in python , It's fundamental concept in OOPs which allow a class to inherit attributes and properties from other class. Class which inherit property from different class is called Child class and the class from which it inherit is called Parent class.\n",
    "\n",
    "- Syntax:\n",
    "\n",
    "#### Parent Class\n",
    "    class ParentClass: \n",
    "        def __init__(self, name):\n",
    "            self.name = name\n",
    "\n",
    "        def greet(self):\n",
    "            print(f\"Hello, {self.name}!\")\n",
    "#### Child Class\n",
    "    class ChildClass(ParentClass):\n",
    "        def __init__(self, name, age):\n",
    "            super().__init__(name)\n",
    "            self.age = age\n",
    "      def display_age(self):\n",
    "        print(f\"{self.name} is {self.age} years old.\")\n",
    "\n",
    "  "
   ]
  },
  {
   "cell_type": "markdown",
   "id": "daf508c5",
   "metadata": {},
   "source": [
    "Q6. How much encapsulation (making instance or class variables private) does Python support?"
   ]
  },
  {
   "cell_type": "markdown",
   "id": "a38cab95",
   "metadata": {},
   "source": [
    "In Python level of encapsulation is less strict and private variables are most about conventions than enforced restrictions.\n",
    "\n",
    "In python encapsulations are public , Private and protected :\n",
    "\n",
    "Public :\n",
    "\n",
    "Public attributes are accessible from anywhere, both within the class or from outside of class directly by calling the instances.\n",
    "\n",
    "Protected :\n",
    "\n",
    "Protected attributes are indicted by a single leading underscore ('_') within the class or subclass to access instances.\n",
    "\n",
    "Private :\n",
    "\n",
    "Private attributes are indicted by using double leading underscore ('__') by using it we make it harder to access from outside the class."
   ]
  },
  {
   "cell_type": "markdown",
   "id": "7687b8f1",
   "metadata": {},
   "source": [
    "Q7. How do you distinguish between a class variable and an instance variable?"
   ]
  },
  {
   "cell_type": "markdown",
   "id": "1e009837",
   "metadata": {},
   "source": [
    "Class variables are defined directly within class but outside any methods and are shared among all instances of the class.They belong to classs and not to any particular instances.\n",
    "\n",
    "Instance variables are defined within methods ( usually using ' __init__ ' method ) of the class. Each instance of class has its own copy of these variables. Each instances has it's own set of instance variables."
   ]
  },
  {
   "cell_type": "markdown",
   "id": "286844dc",
   "metadata": {},
   "source": [
    "Q8. When, if ever, can self be included in a class's method definitions?"
   ]
  },
  {
   "cell_type": "markdown",
   "id": "43515def",
   "metadata": {},
   "source": [
    "In python , Self is included in class method definition when defining instances method. It refers to the instances of class and allow us to access the methods and instances within class. Below is a example of using it for the instances method:\n",
    "\n",
    "class MyClass:\n",
    "    def __init__(self, value):\n",
    "        self.value = value  # Accessing instance variable\n",
    "\n",
    "    def display_value(self):\n",
    "        print(self.value)  # Accessing the instance variable using self\n",
    "\n",
    "obj = MyClass(10)\n",
    "obj.display_value()  # Prints: 10"
   ]
  },
  {
   "cell_type": "markdown",
   "id": "5f9ee8c5",
   "metadata": {},
   "source": [
    "Q9. What is the difference between the _ _add_ _ and the _ _radd_ _ methods?"
   ]
  },
  {
   "cell_type": "markdown",
   "id": "704d5961",
   "metadata": {},
   "source": [
    "In python _add_ and _radd_ method is used to define how object handle + ( addition ) operator , but they depend on which object opeartor is applied to. \n",
    "\n",
    "_add_ ( Left side addition ) , It's called when the object appears on the left side of the + operators.\n",
    "_radd_ ( Right side addition/ reverse addition ) , It's called when the object appears on the right side of the + operators and the left operands doe'nt support addition with the right hand objects."
   ]
  },
  {
   "cell_type": "markdown",
   "id": "4a768c5a",
   "metadata": {},
   "source": [
    "Q10. When is it necessary to use a reflection method? When do you not need it, even though you support the operation in question?"
   ]
  },
  {
   "cell_type": "markdown",
   "id": "14c2b853",
   "metadata": {},
   "source": [
    "Reflections method in python like ( _add_ , _radd_ , _eq_ , _it_ etc ) are special operators used to implements specific operations like arithmetic or comparision for custom objects. These methods are necessary when we want to define custom behaviours involving instances of the class.\n",
    "Example : when we define class and want to customize how instance of the class behave with the build in operators like ( + , - , * ) we can use the reflections methods , If we want our operation to support addition we can use _add_ or _radd_ based on our requirement for left/righ hand addition."
   ]
  },
  {
   "cell_type": "markdown",
   "id": "9ffcf698",
   "metadata": {},
   "source": [
    "Q11. What is the _ _iadd_ _ method called?"
   ]
  },
  {
   "cell_type": "markdown",
   "id": "d8cd4e10",
   "metadata": {},
   "source": [
    "The _iadd_ is called in place addition ( += ), it allows us to define how how the object should handle ( += ) operators. The method attempts to modify the object in place , but when modification isn't possible it can return a new object. \n",
    "- Ex :\n",
    "_add_ is used to add and create a new object for say two object a+b .\n",
    "_iadd_ attempt to modify a in place when a += b is used ."
   ]
  },
  {
   "cell_type": "markdown",
   "id": "56da6905",
   "metadata": {},
   "source": [
    "Q12. Is the _ _init_ _ method inherited by subclasses? What do you do if you need to customize its behavior within a subclass?"
   ]
  },
  {
   "cell_type": "markdown",
   "id": "23bec07d",
   "metadata": {},
   "source": [
    "Yes _init_ method method is inherited by subclass but it's not automatically called unless we invoke it.If we want to customize it's behaviour within a subclass , we can override _init_ method in the subclass by defining a new initialization procedure or we can call the parent _init_ method inside the subclass _init_ method allowing us to customize the initialization at same time it inherit the parent class behavious also.\n",
    "\n",
    "To customize it's behavious within the subclass we can follow below process by using the Parent class method :\n",
    "\n",
    "class Animal:\n",
    "    def __init__(self, name):\n",
    "        self.name = name\n",
    "        print(f\"Animal {self.name} is created.\")\n",
    "\n",
    "class Dog(Animal):\n",
    "    def __init__(self, name, breed):\n",
    "        # Call the parent class's __init__\n",
    "        super().__init__(name)\n",
    "        self.breed = breed\n",
    "        print(f\"Dog {self.name}, breed: {self.breed}, is created.\")\n",
    "\n",
    "dog = Dog(\"Buddy\", \"Golden Retriever\")"
   ]
  }
 ],
 "metadata": {
  "kernelspec": {
   "display_name": "Python 3 (ipykernel)",
   "language": "python",
   "name": "python3"
  },
  "language_info": {
   "codemirror_mode": {
    "name": "ipython",
    "version": 3
   },
   "file_extension": ".py",
   "mimetype": "text/x-python",
   "name": "python",
   "nbconvert_exporter": "python",
   "pygments_lexer": "ipython3",
   "version": "3.11.5"
  }
 },
 "nbformat": 4,
 "nbformat_minor": 5
}
