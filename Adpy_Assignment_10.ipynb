{
 "cells": [
  {
   "cell_type": "markdown",
   "id": "a39fb763",
   "metadata": {},
   "source": [
    "Q1. What is the difference between __getattr__ and __getattribute__?"
   ]
  },
  {
   "cell_type": "markdown",
   "id": "8fbbdec1",
   "metadata": {},
   "source": [
    "Both are special method to handel attribute access of an object .\n",
    "__getattr__ is called when an attribute is accessed that does not exist in the class. it is used to provide default behaviour for attribute access vs __getattribute__ is called every time a attribute is accessed regarless of either attribute exist or not."
   ]
  },
  {
   "cell_type": "markdown",
   "id": "d255d422",
   "metadata": {},
   "source": [
    "Q2. What is the difference between properties and descriptors?"
   ]
  },
  {
   "cell_type": "markdown",
   "id": "4be6a5c1",
   "metadata": {},
   "source": [
    "Both of them are way to define attribute of an object. Property is a pythonic way to avoid getter and setter method in your code\n",
    "these function allows us to turn class attribute to properties. Descriptors is the mechanism behind properties, method and class objects."
   ]
  },
  {
   "cell_type": "markdown",
   "id": "c0a1c530",
   "metadata": {},
   "source": [
    "Q3. What are the key differences in functionality between __getattr__ and __getattribute__, as well as\n",
    "properties and descriptors?"
   ]
  },
  {
   "cell_type": "markdown",
   "id": "8c0a33fa",
   "metadata": {},
   "source": [
    "described above."
   ]
  },
  {
   "cell_type": "code",
   "execution_count": null,
   "id": "da7757fc",
   "metadata": {},
   "outputs": [],
   "source": []
  }
 ],
 "metadata": {
  "kernelspec": {
   "display_name": "Python 3 (ipykernel)",
   "language": "python",
   "name": "python3"
  },
  "language_info": {
   "codemirror_mode": {
    "name": "ipython",
    "version": 3
   },
   "file_extension": ".py",
   "mimetype": "text/x-python",
   "name": "python",
   "nbconvert_exporter": "python",
   "pygments_lexer": "ipython3",
   "version": "3.9.13"
  }
 },
 "nbformat": 4,
 "nbformat_minor": 5
}
