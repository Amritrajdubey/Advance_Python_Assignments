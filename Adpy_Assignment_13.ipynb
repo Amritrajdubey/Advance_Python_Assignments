{
 "cells": [
  {
   "cell_type": "markdown",
   "id": "26460703",
   "metadata": {},
   "source": [
    "Q1. Can you create a programme or function that employs both positive and negative indexing? Is there any repercussion if you do so?"
   ]
  },
  {
   "cell_type": "markdown",
   "id": "8eb6f0be",
   "metadata": {},
   "source": [
    "Yes it's possible to create function/programme that employs both positive and negative indexing:"
   ]
  },
  {
   "cell_type": "code",
   "execution_count": 4,
   "id": "0e6015dc",
   "metadata": {},
   "outputs": [
    {
     "name": "stdout",
     "output_type": "stream",
     "text": [
      "5 7\n"
     ]
    }
   ],
   "source": [
    "L =[10,5,8,45,7,9]\n",
    "l_pos = L[1] #Start 2nd index value\n",
    "l_neg = L[-2] #last 2nd index value\n",
    "\n",
    "print(l_pos,l_neg)"
   ]
  },
  {
   "cell_type": "markdown",
   "id": "f1da65ae",
   "metadata": {},
   "source": [
    "Q2. What is the most effective way of starting with 1,000 elements in a Python list? Assume that all elements should be set to the same value."
   ]
  },
  {
   "cell_type": "markdown",
   "id": "b19956f7",
   "metadata": {},
   "source": [
    "Most effective way of starting with 1000 element all being same in python is by using list() and multiplying same with 1000."
   ]
  },
  {
   "cell_type": "code",
   "execution_count": 6,
   "id": "b3320de6",
   "metadata": {},
   "outputs": [],
   "source": [
    "L = ['values']\n",
    "L_updated = L * 1000"
   ]
  },
  {
   "cell_type": "markdown",
   "id": "de1d0863",
   "metadata": {},
   "source": [
    "Q3. How do you slice a list to get any other part while missing the rest? (For example, suppose you want to make a new list with the elements first, third, fifth, seventh, and so on.)"
   ]
  },
  {
   "cell_type": "code",
   "execution_count": 8,
   "id": "c9cfe618",
   "metadata": {},
   "outputs": [
    {
     "data": {
      "text/plain": [
       "[1, 2, 3, 4, 5, 6, 7]"
      ]
     },
     "execution_count": 8,
     "metadata": {},
     "output_type": "execute_result"
    }
   ],
   "source": [
    "L = [1,2,3,4,5,6,7,8,9,10,11] # reating the list\n",
    "new_l = L[:7] # Slicing first 7 elements and assigning it to new variable\n",
    "new_l"
   ]
  },
  {
   "cell_type": "markdown",
   "id": "fe13c03e",
   "metadata": {},
   "source": [
    "Q4. Explain the distinctions between indexing and slicing."
   ]
  },
  {
   "cell_type": "markdown",
   "id": "f340c028",
   "metadata": {},
   "source": [
    "Indexing is used to point out specific element out of the list vs slicing is used to get specific range of element."
   ]
  },
  {
   "cell_type": "code",
   "execution_count": 13,
   "id": "5fe7f4b5",
   "metadata": {},
   "outputs": [
    {
     "name": "stdout",
     "output_type": "stream",
     "text": [
      "Indexing value 2nd element is 7, Slicing value from 2nd to 5th is[7, 1, 52]\n"
     ]
    }
   ],
   "source": [
    "L=[5,45,7,1,52,6,10,5]\n",
    "print(f'Indexing value 2nd element is {L[2]}, Slicing value from 2nd to 5th is{L[2:5]}')"
   ]
  },
  {
   "cell_type": "markdown",
   "id": "a8eaaff2",
   "metadata": {},
   "source": [
    "Q5. What happens if one of the slicing expression's indexes is out of range?"
   ]
  },
  {
   "cell_type": "code",
   "execution_count": 14,
   "id": "eb5961c8",
   "metadata": {},
   "outputs": [
    {
     "data": {
      "text/plain": [
       "[52, 6, 10, 5]"
      ]
     },
     "execution_count": 14,
     "metadata": {},
     "output_type": "execute_result"
    }
   ],
   "source": [
    "# When slicing expression is out of range it will provide only values which is within range\n",
    "L=[5,45,7,1,52,6,10,5]\n",
    "L[4:10]"
   ]
  },
  {
   "cell_type": "markdown",
   "id": "364bd16b",
   "metadata": {},
   "source": [
    "Q6. If you pass a list to a function, and if you want the function to be able to change the values of the list—so that the list is different after the function returns—what action should you avoid?"
   ]
  },
  {
   "cell_type": "markdown",
   "id": "3536253a",
   "metadata": {},
   "source": [
    "If we want a function to be able to change the values of a list that is passed to it, we need to avoid reassigning the list to a new object inside the function."
   ]
  },
  {
   "cell_type": "code",
   "execution_count": 16,
   "id": "fe413cbe",
   "metadata": {},
   "outputs": [
    {
     "name": "stdout",
     "output_type": "stream",
     "text": [
      "original list :[2, 4, 5, 10, 11] ,New list :[2, 4, 20, 8]\n"
     ]
    }
   ],
   "source": [
    "def fun(L):\n",
    "    L =[2,4,3,8]\n",
    "    L[2] = 20\n",
    "    return L\n",
    "\n",
    "L1 = [2,4,5,10,11]\n",
    "\n",
    "new_list = fun(L1)\n",
    "print(f'original list :{L1} ,New list :{new_list}')"
   ]
  },
  {
   "cell_type": "markdown",
   "id": "b9bf4fe9",
   "metadata": {},
   "source": [
    "Q7. What is the concept of an unbalanced matrix?"
   ]
  },
  {
   "cell_type": "markdown",
   "id": "753bc286",
   "metadata": {},
   "source": [
    "matrix with different nos of elements in each rows.\n",
    "\n",
    ".          2 4 7 19           \n",
    "Matrix =   7 9 1\n",
    "           1 9 3 2 8\n",
    "\n",
    "Above matrix does'nt have same no of element in each rows."
   ]
  },
  {
   "cell_type": "markdown",
   "id": "43084c3c",
   "metadata": {},
   "source": [
    "Q8. Why is it necessary to use either list comprehension or a loop to create arbitrarily large matrices?"
   ]
  },
  {
   "cell_type": "code",
   "execution_count": null,
   "id": "fb096e9d",
   "metadata": {},
   "outputs": [],
   "source": [
    "Because they allow for dynamic creation an"
   ]
  }
 ],
 "metadata": {
  "kernelspec": {
   "display_name": "Python 3 (ipykernel)",
   "language": "python",
   "name": "python3"
  },
  "language_info": {
   "codemirror_mode": {
    "name": "ipython",
    "version": 3
   },
   "file_extension": ".py",
   "mimetype": "text/x-python",
   "name": "python",
   "nbconvert_exporter": "python",
   "pygments_lexer": "ipython3",
   "version": "3.9.13"
  }
 },
 "nbformat": 4,
 "nbformat_minor": 5
}
