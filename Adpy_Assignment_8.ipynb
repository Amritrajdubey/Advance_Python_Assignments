{
 "cells": [
  {
   "cell_type": "markdown",
   "id": "948a7734",
   "metadata": {},
   "source": [
    "Q1. What are the two latest user-defined exception constraints in Python 3.X?"
   ]
  },
  {
   "cell_type": "markdown",
   "id": "3ef63467",
   "metadata": {},
   "source": [
    "- ImportError\n",
    "- ArithmeticError"
   ]
  },
  {
   "cell_type": "markdown",
   "id": "311ddaef",
   "metadata": {},
   "source": [
    "Q2. How are class-based exceptions that have been raised matched to handlers?"
   ]
  },
  {
   "cell_type": "markdown",
   "id": "c2fe7358",
   "metadata": {},
   "source": []
  },
  {
   "cell_type": "markdown",
   "id": "f533d4ec",
   "metadata": {},
   "source": [
    "Q3. Describe two methods for attaching context information to exception artefacts."
   ]
  },
  {
   "cell_type": "markdown",
   "id": "76baaf10",
   "metadata": {},
   "source": [
    "- By using Arguments:\n",
    "try:\n",
    "    b= int(input('Provide natural no ))\n",
    "    b = a/0\n",
    "    print(b)\n",
    "except exceptition as Argument:\n",
    "    print('This is the Argument',Argument)\n",
    "    \n",
    "- Using exceptition to get type of error along with file name\n",
    "\n",
    "try:\n",
    "    c =500 /0\n",
    "except Exception as e:\n",
    "    exc_type, exc_obj, exc_tb = sys.exc_info()\n",
    "    fname = os.path.split(exc_tb.tb_frame.f_code.co_filename)\n",
    "    print(exc_type, fname, exc_tb.tb_lineno)"
   ]
  },
  {
   "cell_type": "markdown",
   "id": "eba78173",
   "metadata": {},
   "source": [
    "Q4. Describe two methods for specifying the text of an exception object's error message."
   ]
  },
  {
   "cell_type": "markdown",
   "id": "14af9187",
   "metadata": {},
   "source": [
    "We need to identify the error type from the Exceptition types available in documentation and need to put same inside the except block so that whenever code encounter an error it will display same."
   ]
  },
  {
   "cell_type": "markdown",
   "id": "62b24b18",
   "metadata": {},
   "source": [
    "Q5. Why do you no longer use string-based exceptions?"
   ]
  },
  {
   "cell_type": "markdown",
   "id": "82f0089b",
   "metadata": {},
   "source": [
    "We must not use string based exceptition as exceptition message need to be straight and assertive with minimum character."
   ]
  }
 ],
 "metadata": {
  "kernelspec": {
   "display_name": "Python 3 (ipykernel)",
   "language": "python",
   "name": "python3"
  },
  "language_info": {
   "codemirror_mode": {
    "name": "ipython",
    "version": 3
   },
   "file_extension": ".py",
   "mimetype": "text/x-python",
   "name": "python",
   "nbconvert_exporter": "python",
   "pygments_lexer": "ipython3",
   "version": "3.9.13"
  }
 },
 "nbformat": 4,
 "nbformat_minor": 5
}
