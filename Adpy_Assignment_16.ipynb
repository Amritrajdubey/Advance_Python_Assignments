{
 "cells": [
  {
   "cell_type": "markdown",
   "id": "790583eb",
   "metadata": {},
   "source": [
    "Q1. What is the benefit of regular expressions?"
   ]
  },
  {
   "cell_type": "markdown",
   "id": "6de59c42",
   "metadata": {},
   "source": [
    "- Time saving because we can perform complex text manipulation in few line of code.\n",
    "- More flexibility because it can be used in wide variety of application from web development , data precoessing , text editing etc.\n",
    "- Supported by many programming language and text editors."
   ]
  },
  {
   "cell_type": "markdown",
   "id": "16029c5f",
   "metadata": {},
   "source": [
    "Q2. Describe the difference between the effects of \"(ab)c+\" and \"a(bc)+.\" Which of these, if any, is the unqualified pattern \"abc+\"?"
   ]
  },
  {
   "cell_type": "markdown",
   "id": "5d824d71",
   "metadata": {},
   "source": [
    "Both \"(ab)c+\" and \"a(bc)+\" are regular expressions that match strings containing one or more occurrences of the pattern \"(ab)\" or \"(bc)\", respectively. Howeverway they match is difference.\n",
    "(ab)c+ match string that start with ab anf followed by occurances of 'c' vs a(bc) start with a followed by 'bc'."
   ]
  },
  {
   "cell_type": "markdown",
   "id": "8b124c11",
   "metadata": {},
   "source": [
    "Q3. How much do you need to use the following sentence while using regular expressions?\n",
    "\n",
    "import re"
   ]
  },
  {
   "cell_type": "markdown",
   "id": "4ad3d029",
   "metadata": {},
   "source": [
    "we need to use sentence 'import re ' each time when ever we use regular expressions.Line of code imports the 're' module, which provides support for regular expressions in Python."
   ]
  },
  {
   "cell_type": "markdown",
   "id": "b1c14bea",
   "metadata": {},
   "source": [
    "Q4. Which characters have special significance in square brackets when expressing a range, and under what circumstances?"
   ]
  },
  {
   "cell_type": "code",
   "execution_count": null,
   "id": "10c753d1",
   "metadata": {},
   "outputs": [],
   "source": [
    "[ ] is used to create a character class.\n",
    "a) '-' is used to specify range of character.\n",
    "b) ']' When the closing square bracket character appears immediately after the opening square bracket."
   ]
  },
  {
   "cell_type": "markdown",
   "id": "f1271884",
   "metadata": {},
   "source": [
    "Q5. How does compiling a regular-expression object benefit you?"
   ]
  },
  {
   "cell_type": "markdown",
   "id": "3d896148",
   "metadata": {},
   "source": [
    "re.compile() gives following benifits:\n",
    "- Compiling a regular expression object allows simplified syntax by allowing to store the expression in a variable,making it easier to read and modify.\n",
    "- Complied 're' can be used over multiple searches providing resuability.\n",
    "- compiling 're' object ,Python checks the syntax of the expression and raises re.error"
   ]
  },
  {
   "cell_type": "markdown",
   "id": "dc246d4a",
   "metadata": {},
   "source": [
    "Q6. What are some examples of how to use the match object returned by re.match and re.search?"
   ]
  },
  {
   "cell_type": "markdown",
   "id": "39ffb3c0",
   "metadata": {},
   "source": [
    "both above function return match object if there is match which can further be used to extract or manipulate matched texts."
   ]
  },
  {
   "cell_type": "markdown",
   "id": "917d9228",
   "metadata": {},
   "source": [
    "Ex- Extracting matched text:We can use the group() method of the match object to extract matched texts. For example, re.search('hello', 'hello there').group() will return 'hello'being common or matchng word.\n",
    "\n",
    "Ex- To replace parts of the input string: We can use the sub() method of the re module to replace matched text with a new string. ex- re.sub('hello', 'hi', 'hello world') would return 'hi world'."
   ]
  },
  {
   "cell_type": "markdown",
   "id": "e80b2780",
   "metadata": {},
   "source": [
    "Q7. What is the difference between using a vertical bar (|) as an alteration and using square brackets as a character set?"
   ]
  },
  {
   "cell_type": "markdown",
   "id": "e9beef0c",
   "metadata": {},
   "source": [
    "(|) vertical bar is used to create alteration or lternatives vs [] sq bracket is used to create character class.\n",
    "using vertical class we can use sequences of alternatives which is not in case of sq bracket.\n",
    "Ex - vertical bar :  tree|plant|herbs\n",
    "     sq bracket : [Tree]"
   ]
  },
  {
   "cell_type": "markdown",
   "id": "d65ba8f3",
   "metadata": {},
   "source": [
    "Q8. In regular-expression search patterns, why is it necessary to use the raw-string indicator (r)? In replacement strings?"
   ]
  },
  {
   "cell_type": "markdown",
   "id": "cc5ddc8f",
   "metadata": {},
   "source": [
    "Raw-string indicator (r) is often used to indicate a raw string literal. It's important because regular expressions often contain backslashes (\\) and other special characters that may interprete as escape sequences or other special characters by Python."
   ]
  }
 ],
 "metadata": {
  "kernelspec": {
   "display_name": "Python 3 (ipykernel)",
   "language": "python",
   "name": "python3"
  },
  "language_info": {
   "codemirror_mode": {
    "name": "ipython",
    "version": 3
   },
   "file_extension": ".py",
   "mimetype": "text/x-python",
   "name": "python",
   "nbconvert_exporter": "python",
   "pygments_lexer": "ipython3",
   "version": "3.9.13"
  }
 },
 "nbformat": 4,
 "nbformat_minor": 5
}
