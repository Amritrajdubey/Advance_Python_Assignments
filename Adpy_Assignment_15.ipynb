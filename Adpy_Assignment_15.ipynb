{
 "cells": [
  {
   "cell_type": "markdown",
   "id": "32e6c769",
   "metadata": {},
   "source": [
    "1). What are the new features added in Python 3.8 version?"
   ]
  },
  {
   "cell_type": "markdown",
   "id": "56e2879a",
   "metadata": {},
   "source": [
    "a) Assignment operator (:=).\n",
    "b) f - string for self documenting module.Ex- f'{variable}'\n",
    "c) Improved processing speed."
   ]
  },
  {
   "cell_type": "markdown",
   "id": "194ceee6",
   "metadata": {},
   "source": [
    "2). What is monkey patching in Python?"
   ]
  },
  {
   "cell_type": "markdown",
   "id": "b565cb5f",
   "metadata": {},
   "source": [
    "Monkey patching in Python is the technique of changing or extending the behavior of a module or a class at runtime by modifying its code, without actually changing the original source code."
   ]
  },
  {
   "cell_type": "code",
   "execution_count": 5,
   "id": "be2cb8bb",
   "metadata": {},
   "outputs": [
    {
     "name": "stdout",
     "output_type": "stream",
     "text": [
      "Patched sentence\n"
     ]
    }
   ],
   "source": [
    "# Ex\n",
    "class Monkey_Patching:\n",
    "    def first_method(self):\n",
    "        print('Original sentenced')\n",
    "def new_method(self):\n",
    "    print('Patched sentence')\n",
    "    \n",
    "Monkey_Patching.first_method = new_method\n",
    " \n",
    "obj1 = Monkey_Patching()\n",
    "obj1.first_method()"
   ]
  },
  {
   "cell_type": "markdown",
   "id": "b4a382e5",
   "metadata": {},
   "source": [
    "3). What is the difference between a shallow copy and deep copy?"
   ]
  },
  {
   "cell_type": "markdown",
   "id": "3c94cf78",
   "metadata": {},
   "source": [
    "Shallow copy creates new object which is copy of original object along with reference from original object. Means even if we make change in copied object original will also be affected.\n",
    "\n",
    "Deep copy created new object has no reference from original object and changes made in copied one will not affect original. "
   ]
  },
  {
   "cell_type": "code",
   "execution_count": 10,
   "id": "037cc826",
   "metadata": {},
   "outputs": [
    {
     "name": "stdout",
     "output_type": "stream",
     "text": [
      "Original  : [[2, [8], 1], [0, 4, 6]]\n",
      "Swallo copy  : [[2, [8], 1], [0, 4, 6]]\n",
      "Original  : [3, 4, 5, 2, 5, 8]\n",
      "Deep copied  : [3, 4, [9], 2, 5, 8]\n"
     ]
    }
   ],
   "source": [
    "original = [[2,4,1],[0,4,6]]\n",
    "copied_list = original.copy()\n",
    "copied_list[0][1] = [8]\n",
    "print('Original  :',original)\n",
    "print('Swallo copy  :',copied_list)\n",
    "\n",
    "import copy\n",
    "original = [3,4,5,2,5,8]\n",
    "copy_list = copy.deepcopy(original)\n",
    "copy_list[2] = [9]\n",
    "print('Original  :',original)\n",
    "print('Deep copied  :',copy_list)"
   ]
  },
  {
   "cell_type": "markdown",
   "id": "590591ae",
   "metadata": {},
   "source": [
    "4). What is the maximum possible length of an identifier?"
   ]
  },
  {
   "cell_type": "markdown",
   "id": "c34f6e6a",
   "metadata": {},
   "source": [
    "79 characters in python"
   ]
  },
  {
   "cell_type": "markdown",
   "id": "0f7ca80b",
   "metadata": {},
   "source": [
    "5). What is generator comprehension?"
   ]
  },
  {
   "cell_type": "markdown",
   "id": "6cc50b71",
   "metadata": {},
   "source": [
    "Syntax provided by python to write generator function code in single line is called Generator comprehension."
   ]
  },
  {
   "cell_type": "code",
   "execution_count": 13,
   "id": "c407133b",
   "metadata": {},
   "outputs": [
    {
     "name": "stdout",
     "output_type": "stream",
     "text": [
      "(0, 1, 2)\n",
      "(1, 2, 3)\n",
      "(2, 3, 4)\n",
      "(3, 4, 5)\n",
      "(4, 5, 6)\n",
      "(5, 6, 7)\n",
      "(6, 7, 8)\n",
      "(7, 8, 9)\n",
      "(8, 9, 10)\n",
      "(9, 10, 11)\n",
      "(10, 11, 12)\n",
      "(11, 12, 13)\n",
      "(12, 13, 14)\n",
      "(13, 14, 15)\n"
     ]
    }
   ],
   "source": [
    "gen_comp = ( (i-1,i,i+1) for i in range(1,15)) # Generator comprehension\n",
    "for i in gen_comp: # Iterating through generator\n",
    "    print(i)"
   ]
  },
  {
   "cell_type": "code",
   "execution_count": null,
   "id": "962f4913",
   "metadata": {},
   "outputs": [],
   "source": []
  }
 ],
 "metadata": {
  "kernelspec": {
   "display_name": "Python 3 (ipykernel)",
   "language": "python",
   "name": "python3"
  },
  "language_info": {
   "codemirror_mode": {
    "name": "ipython",
    "version": 3
   },
   "file_extension": ".py",
   "mimetype": "text/x-python",
   "name": "python",
   "nbconvert_exporter": "python",
   "pygments_lexer": "ipython3",
   "version": "3.9.13"
  }
 },
 "nbformat": 4,
 "nbformat_minor": 5
}
