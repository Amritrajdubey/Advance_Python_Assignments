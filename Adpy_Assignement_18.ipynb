{
 "cells": [
  {
   "cell_type": "markdown",
   "id": "77579a21",
   "metadata": {},
   "source": [
    "Q1. Describe the differences between text and binary files in a single paragraph."
   ]
  },
  {
   "cell_type": "markdown",
   "id": "1a248115",
   "metadata": {},
   "source": [
    "Both text and binary files are used to store and represent data in computing. Text files store data in formats which are easily stood by humnas and store data in form of plain text and is used to store code , documentations and it can easily be edited using standard text editor. Binary files are used to store data in form of sequence of bytes that are easily stood by computers which can contain information of image , video , word etc. They require specific programme to run and edit the file."
   ]
  },
  {
   "cell_type": "markdown",
   "id": "4303c896",
   "metadata": {},
   "source": [
    "Q2. What are some scenarios where using text files will be the better option? When would you like to use binary files instead of text files?"
   ]
  },
  {
   "cell_type": "markdown",
   "id": "aa59e80a",
   "metadata": {},
   "source": [
    "Text files are better to use when humans redability is required and when there is need to keep it updating and requires human intervention and is easy to store source code , documentations as it's standard format can be stood by any. ALso it's easy to exchange the text files. We prefer to use binary file over text file when dealing with non - textual data like audio , Video and when efficiency and precision in storage limit is critical.They are storage efficient and allow direct storage of complex data structures."
   ]
  },
  {
   "cell_type": "markdown",
   "id": "85dea8e7",
   "metadata": {},
   "source": [
    "Q3. What are some of the issues with using binary operations to read and write a Python integer directly to disc?"
   ]
  },
  {
   "cell_type": "markdown",
   "id": "f7e4a12b",
   "metadata": {},
   "source": [
    "some of possible issues when using binary operations to read and write a python integer directly to disc are:\n",
    "- Different systems has different bytes orders (endianness), which can lead to compatibility issues when reading or writing binary data.\n",
    "- WHile sharing files across different platforms we need to keep in mind the different compatible integer size and byte order.\n",
    "- when reading file we need to implement proper error handling to manage potential issues such as incomplete or corrupted data."
   ]
  },
  {
   "cell_type": "markdown",
   "id": "ee31f2ad",
   "metadata": {},
   "source": [
    "Q4. Describe a benefit of using the with keyword instead of explicitly opening a file."
   ]
  },
  {
   "cell_type": "markdown",
   "id": "56cdb3e0",
   "metadata": {},
   "source": [
    "Using the with keyword instead of explicitly opening a file has the benifit of automatically managing the file context specifically in term of opening and closing. When file is opened within 'with' statement ,file is automatically closed once the block is exited.few of advantage are:\n",
    "- Automatic cleanup\n",
    "- Exceptitional handling\n",
    "- consistent syntax\n",
    "- simplified code"
   ]
  },
  {
   "cell_type": "markdown",
   "id": "8d49b421",
   "metadata": {},
   "source": [
    "Q5. Does Python have the trailing newline while reading a line of text? Does Python append a newline when you write a line of text?"
   ]
  },
  {
   "cell_type": "markdown",
   "id": "334e0c7c",
   "metadata": {},
   "source": [
    "When we are reading a line of text in Python or iterating over lines in a file, the trailing newline character ('\\n') is included in the returned string."
   ]
  },
  {
   "cell_type": "markdown",
   "id": "79444a01",
   "metadata": {},
   "source": [
    "Q6. What file operations enable for random-access operation?"
   ]
  },
  {
   "cell_type": "markdown",
   "id": "81141358",
   "metadata": {},
   "source": [
    "Random access operation in file allowa us to directly access or modify specific part of a file without the need to read or write the entire file sequentially.\n",
    "- By using seek method in python we can move the file cursor to a specific position.\n",
    "- After seeking to specific position we can perform read and write at that location.\n",
    "- Tell method return current position of file cursor."
   ]
  },
  {
   "cell_type": "markdown",
   "id": "7192feb0",
   "metadata": {},
   "source": [
    "Q7. When do you think you'll use the struct package the most?"
   ]
  },
  {
   "cell_type": "markdown",
   "id": "0319c366",
   "metadata": {},
   "source": [
    "We use 'struct' module mainly for packing and unpacking binary data.We are lilely to use it in scenario when we need to work with binary file format,network protocol or any case where data is repmresented in fixed length binary format"
   ]
  },
  {
   "cell_type": "markdown",
   "id": "ad57c668",
   "metadata": {},
   "source": [
    "Q8. When is pickling the best option?"
   ]
  },
  {
   "cell_type": "markdown",
   "id": "b78fe84c",
   "metadata": {},
   "source": [
    "Pickle module in python is used for following purpose:\n",
    "- Object serilization\n",
    "- Data persistence\n",
    "- Configuration management"
   ]
  },
  {
   "cell_type": "markdown",
   "id": "550c23a9",
   "metadata": {},
   "source": [
    "Q9. When will it be best to use the shelve package?"
   ]
  },
  {
   "cell_type": "markdown",
   "id": "84a0e151",
   "metadata": {},
   "source": [
    "Shelve module in python provides high level interface for persistently storing python objects to a file. It's built on top of dbm ( data base manager ) module.SHelve module is particulary used in scenario where we want to store and retrive data in dictonary like interface.\n",
    "Following are cases when using shelve be best option:\n",
    "- Simple Key value storage\n",
    "- Storing python objects\n",
    "- Data persistence\n",
    "- User preferences in GUI applications"
   ]
  },
  {
   "cell_type": "markdown",
   "id": "c0d3e5c4",
   "metadata": {},
   "source": [
    "Q10. What is a special restriction when using the shelve package, as opposed to using other data dictionaries?"
   ]
  },
  {
   "cell_type": "markdown",
   "id": "6dca6725",
   "metadata": {},
   "source": [
    "The shelve package in Python has a special restriction compared to using other data dictionaries. The restriction is related to the keys used in the shelve object. In a standard Python dictionary, keys can be of any hashable type, allowing for flexibility in choosing keys. However, when using shelve, the keys must be strings."
   ]
  }
 ],
 "metadata": {
  "kernelspec": {
   "display_name": "Python 3 (ipykernel)",
   "language": "python",
   "name": "python3"
  },
  "language_info": {
   "codemirror_mode": {
    "name": "ipython",
    "version": 3
   },
   "file_extension": ".py",
   "mimetype": "text/x-python",
   "name": "python",
   "nbconvert_exporter": "python",
   "pygments_lexer": "ipython3",
   "version": "3.11.5"
  }
 },
 "nbformat": 4,
 "nbformat_minor": 5
}
