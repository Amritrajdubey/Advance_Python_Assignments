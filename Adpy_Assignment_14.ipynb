{
 "cells": [
  {
   "cell_type": "markdown",
   "id": "73c5df56",
   "metadata": {},
   "source": [
    "Q1. Is an assignment operator like += only for show? Is it possible that it would lead to faster results at the runtime?."
   ]
  },
  {
   "cell_type": "markdown",
   "id": "d2b7ed9e",
   "metadata": {},
   "source": [
    "Assignment operator += is not for show and using it increase run time and memory space . += does purpose. For ex - x = x+y instead we can use x += y"
   ]
  },
  {
   "cell_type": "markdown",
   "id": "150ba903",
   "metadata": {},
   "source": [
    "Q2. What is the smallest number of statements you'd have to write in most programming languages to replace the Python expression a, b = a + b, a?"
   ]
  },
  {
   "cell_type": "code",
   "execution_count": null,
   "id": "25c21dca",
   "metadata": {},
   "outputs": [],
   "source": [
    "temp = a + b\n",
    "a = b\n",
    "b= temp- b"
   ]
  },
  {
   "cell_type": "markdown",
   "id": "b5cdb61e",
   "metadata": {},
   "source": [
    "Q3. In Python, what is the most effective way to set a list of 100 integers to 0?"
   ]
  },
  {
   "cell_type": "code",
   "execution_count": 14,
   "id": "a2325771",
   "metadata": {
    "scrolled": true
   },
   "outputs": [
    {
     "name": "stdout",
     "output_type": "stream",
     "text": [
      "length :100 list 1st elemrnt: 0\n"
     ]
    }
   ],
   "source": [
    "rev_list = [0] *100\n",
    "print(f'length :{len(rev_list)} list 1st elemrnt: {rev_list[0]}')"
   ]
  },
  {
   "cell_type": "markdown",
   "id": "9811bfa2",
   "metadata": {},
   "source": [
    "Q4. What is the most effective way to initialise a list of 99 integers that repeats the sequence 1, 2, 3? S If necessary, show step-by-step instructions on how to accomplish this."
   ]
  },
  {
   "cell_type": "code",
   "execution_count": 2,
   "id": "a2888584",
   "metadata": {},
   "outputs": [
    {
     "name": "stdout",
     "output_type": "stream",
     "text": [
      "[1, 2, 3, 1, 2, 3, 1, 2, 3, 1, 2, 3, 1, 2, 3, 1, 2, 3, 1, 2, 3, 1, 2, 3, 1, 2, 3, 1, 2, 3, 1, 2, 3, 1, 2, 3, 1, 2, 3, 1, 2, 3, 1, 2, 3, 1, 2, 3, 1, 2, 3, 1, 2, 3, 1, 2, 3, 1, 2, 3, 1, 2, 3, 1, 2, 3, 1, 2, 3, 1, 2, 3, 1, 2, 3, 1, 2, 3, 1, 2, 3, 1, 2, 3, 1, 2, 3, 1, 2, 3, 1, 2, 3, 1, 2, 3, 1, 2, 3]\n"
     ]
    }
   ],
   "source": [
    "sequence = [i for i in range(1,4)]\n",
    "repeat_sq = 33 * sequence\n",
    "print(repeat_sq[:99])"
   ]
  },
  {
   "cell_type": "markdown",
   "id": "0a72bcfd",
   "metadata": {},
   "source": [
    "Q5. If you're using IDLE to run a Python application, explain how to print a multidimensional list as efficiently ?"
   ]
  },
  {
   "cell_type": "code",
   "execution_count": 4,
   "id": "bf30a240",
   "metadata": {},
   "outputs": [
    {
     "name": "stdout",
     "output_type": "stream",
     "text": [
      "1 2 3 \n",
      "1 8 6 \n",
      "10 5 9 \n"
     ]
    }
   ],
   "source": [
    "# We can print multidimensional list using nested loop.\n",
    "l =[[1,2,3],[1,8,6],[10,5,9]]\n",
    "for i in l:\n",
    "    for j in i:\n",
    "        print(j , end=' ')\n",
    "    print()"
   ]
  },
  {
   "cell_type": "markdown",
   "id": "ee17f961",
   "metadata": {},
   "source": [
    "Q6. Is it possible to use list comprehension with a string? If so, how can you go about doing it?"
   ]
  },
  {
   "cell_type": "code",
   "execution_count": 6,
   "id": "01780fee",
   "metadata": {},
   "outputs": [
    {
     "name": "stdout",
     "output_type": "stream",
     "text": [
      "S  t  r  i  n  g     f  o  r     l  i  s  t     c  o  m  p  r  e  h  e  n  s  i  o  n  \n"
     ]
    }
   ],
   "source": [
    "# yes it's possible to use list comprehension with syting.\n",
    "my_string = 'String for list comprehension'\n",
    "for i in my_string:\n",
    "    print(i , end ='  ')\n",
    "print()"
   ]
  },
  {
   "cell_type": "markdown",
   "id": "b1557b74",
   "metadata": {},
   "source": [
    "Q7. From the command line, how do you get support with a user-written Python programme? Is this possible from inside IDLE?"
   ]
  },
  {
   "cell_type": "code",
   "execution_count": 7,
   "id": "2bfba154",
   "metadata": {},
   "outputs": [
    {
     "name": "stdout",
     "output_type": "stream",
     "text": [
      "Help on function help_prog in module __main__:\n",
      "\n",
      "help_prog(num)\n",
      "\n"
     ]
    }
   ],
   "source": [
    "# From command lie itself we can have support by using -h or --help while running the code. \n",
    "# Ex os using --help from IDLE inside.\n",
    "\n",
    "def help_prog(num):\n",
    "    a = num*3 + 25\n",
    "    print(a)\n",
    "\n",
    "help(help_prog)"
   ]
  },
  {
   "cell_type": "markdown",
   "id": "2708eedd",
   "metadata": {},
   "source": [
    "Q8. Functions are said to be “first-class objects” in Python but not in most other languages, such as C++ or Java. What can you do in Python with a function (callable object) that you can't do in C or C++?"
   ]
  },
  {
   "cell_type": "markdown",
   "id": "23032bbf",
   "metadata": {},
   "source": [
    "1) In case of python when we define function we need simply to call them and pass the arguments like any object but in case of C++ we need to define function pointer to achieve similar thing.\n",
    "\n",
    "2) In python we can pass one function arguments to other function but in case of C++ we can pass function pointer as argument. "
   ]
  },
  {
   "cell_type": "markdown",
   "id": "0457fb5b",
   "metadata": {},
   "source": [
    "Q9. How do you distinguish between a wrapper, a wrapped feature, and a decorator?"
   ]
  },
  {
   "cell_type": "markdown",
   "id": "e2f55577",
   "metadata": {},
   "source": [
    "wrapper is term for a function or class that adds functionality to an existing function or class without changing its implementation vs Wrapped feature is modified or extended function or class vs Decorator is specific type of wrapper that modifies the behavior of a function or method using special syntax."
   ]
  },
  {
   "cell_type": "markdown",
   "id": "124ee566",
   "metadata": {},
   "source": [
    "Q10. If a function is a generator function, what does it return?"
   ]
  },
  {
   "cell_type": "markdown",
   "id": "01afae89",
   "metadata": {},
   "source": [
    "It does'nt return value as print does rather that it return generator object through which we can itterate to have the output"
   ]
  },
  {
   "cell_type": "markdown",
   "id": "d99147ec",
   "metadata": {},
   "source": [
    "Q11. What is the one improvement that must be made to a function in order for it to become a generator function in the Python language?"
   ]
  },
  {
   "cell_type": "code",
   "execution_count": null,
   "id": "2dfb1cfb",
   "metadata": {},
   "outputs": [],
   "source": [
    "using yield statement instead of print.\n",
    "\n",
    "def output(n):\n",
    "    print(n) # Normally print statement\n",
    "    \n",
    "def output(n):\n",
    "    yield (n) # Yield in place of print act as Generator\n"
   ]
  },
  {
   "cell_type": "markdown",
   "id": "00b99804",
   "metadata": {},
   "source": [
    "Q12. Identify at least one benefit of generators"
   ]
  },
  {
   "cell_type": "code",
   "execution_count": null,
   "id": "4fe43e5d",
   "metadata": {},
   "outputs": [],
   "source": [
    "Generate sequence of values on-the-fly, rather than generating them all at once and storing them in memory."
   ]
  }
 ],
 "metadata": {
  "kernelspec": {
   "display_name": "Python 3 (ipykernel)",
   "language": "python",
   "name": "python3"
  },
  "language_info": {
   "codemirror_mode": {
    "name": "ipython",
    "version": 3
   },
   "file_extension": ".py",
   "mimetype": "text/x-python",
   "name": "python",
   "nbconvert_exporter": "python",
   "pygments_lexer": "ipython3",
   "version": "3.9.13"
  }
 },
 "nbformat": 4,
 "nbformat_minor": 5
}
