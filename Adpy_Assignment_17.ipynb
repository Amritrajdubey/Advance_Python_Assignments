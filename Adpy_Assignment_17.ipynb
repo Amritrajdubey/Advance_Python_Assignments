{
 "cells": [
  {
   "cell_type": "markdown",
   "id": "4b27fb00",
   "metadata": {},
   "source": [
    "Q1. Explain the difference between greedy and non-greedy syntax with visual terms in as few words as possible. What is the bare minimum effort required to transform a greedy pattern into a non-greedy one? What characters or characters can you introduce or change?"
   ]
  },
  {
   "cell_type": "markdown",
   "id": "6a8e8eef",
   "metadata": {},
   "source": [
    "Greedy quantifier matches as much as possible while non-greedy or Lazy quanitifier match as little as possible.To transform \n",
    "greedy to non-greedy quantifier we add '?' after the quantifier.\n",
    "\n",
    "import re\n",
    "text = \"abc123abc456\"\n",
    "\n",
    "greedy_pattern = re.compile(r'abc.*')\n",
    "greedy_match = greedy_pattern.search(text)\n",
    "print(\"Greedy Match:\", greedy_match.group(0))"
   ]
  },
  {
   "cell_type": "markdown",
   "id": "648ca9b4",
   "metadata": {},
   "source": [
    "Q2. When exactly does greedy versus non-greedy make a difference?  What if you're looking for a non-greedy match but the only one available is greedy?"
   ]
  },
  {
   "cell_type": "markdown",
   "id": "8fe1aa14",
   "metadata": {},
   "source": [
    "Greedy try to match as much as possible and when there are multiple matches it become crucial to differentiate which to use\n",
    "\n",
    "text = \"abc123abc456\"\n",
    "pattern = re.compile(r'abc.*?456')\n",
    "match = pattern.search(text)\n",
    "\n",
    "like as we use _*? in case of non- greedy which can't look up to match the entire part excluding 4 but if we use _* done for greedy one it will consider entire abc and 456 and will then find out all matches respectively."
   ]
  },
  {
   "cell_type": "markdown",
   "id": "6ab90df4",
   "metadata": {},
   "source": [
    "Q3. In a simple match of a string, which looks only for one match and does not do any replacement, is the use of a nontagged group likely to make any practical difference?"
   ]
  },
  {
   "cell_type": "markdown",
   "id": "fbdd50a6",
   "metadata": {},
   "source": [
    "In a simple string match where we are not captuing the matched substrings for reasons like replacement or further processing , use of non tagged group is unable to make any practical difference in the outcum.\n",
    "we mainly use non tagged group to group the sequence of patterns together for purpose to apply quantifiers together.Ex -'*','+'"
   ]
  },
  {
   "cell_type": "markdown",
   "id": "3e9814f7",
   "metadata": {},
   "source": [
    "Q4. Describe a scenario in which using a nontagged category would have a significant impact on the program's outcomes."
   ]
  },
  {
   "cell_type": "markdown",
   "id": "5effb802",
   "metadata": {},
   "source": [
    "In case of regular expressions , non capturing groups are mainly used to group patterns together for the purpose of quantifiers.\n",
    "in most simple cases non tagged/ non capturing groups won't tend to put much impact in simple cases but it can b affected when\n",
    "dealing with complex patters or while enhancing performance."
   ]
  },
  {
   "cell_type": "markdown",
   "id": "80fa834e",
   "metadata": {},
   "source": [
    "Q5. Unlike a normal regex pattern, a look-ahead condition does not consume the characters it examines. Describe a situation in which this could make a difference in the results of your programme."
   ]
  },
  {
   "cell_type": "markdown",
   "id": "58c7a104",
   "metadata": {},
   "source": [
    "A look ahead assertion in a regular expression is a non consuming assertion means it check for presence/absence of pattern without actually consuming the character. This can make difference when we just want to find/match a pattern based on the context without actually including the context itself.\n",
    "For ex : If we have to find list of all mail ids from set of mail ids having @yahoo.com as extension we can use it."
   ]
  },
  {
   "cell_type": "markdown",
   "id": "411d30f9",
   "metadata": {},
   "source": [
    "Q6. In standard expressions, what is the difference between positive look-ahead and negative look-ahead?"
   ]
  },
  {
   "cell_type": "markdown",
   "id": "94d4e7c4",
   "metadata": {},
   "source": [
    "Both positive and negative look-ahead is types of look ahead assertion in regular expressions.But they both follows different purpose.\n",
    "Positive look-ahead:\n",
    "Ex - 'x(?=y)' It will match x only if x is followed by y.\n",
    "Negative look-ahead:\n",
    "Ex - 'x(?!y)' It will match x only if x is not followed by y."
   ]
  },
  {
   "cell_type": "markdown",
   "id": "6e3dd977",
   "metadata": {},
   "source": [
    "Q7. What is the benefit of referring to groups by name rather than by number in a standard expression?"
   ]
  },
  {
   "cell_type": "markdown",
   "id": "9c965148",
   "metadata": {},
   "source": [
    "There are numerous advantage of referring to groups by name rather than by number. Followings are few:\n",
    "- Using group name over number makes regular expressions more redable and self documenting.\n",
    "- Code becomes easier as when we modify codes group number might change creating bug in code but using name we can avoid it.\n",
    "- Using named group allows us to access captured group by their names in addition to there position being helpfull in post processing.\n",
    "- Named group provides documentation within regular expression itself, making it easier to stood the purpose of each groups."
   ]
  },
  {
   "cell_type": "markdown",
   "id": "96d8735f",
   "metadata": {},
   "source": [
    "Q8. Can you identify repeated items within a target string using named groups, as in \"The cow jumped over the moon\"?"
   ]
  },
  {
   "cell_type": "markdown",
   "id": "82261abd",
   "metadata": {},
   "source": [
    "Named group in regular expression is used to capture specific pattern within the strings rather than repeated items. However we can use backreferences to identify repeated items."
   ]
  },
  {
   "cell_type": "code",
   "execution_count": 2,
   "id": "9213658f",
   "metadata": {},
   "outputs": [
    {
     "name": "stdout",
     "output_type": "stream",
     "text": [
      "Repeated word: The\n"
     ]
    }
   ],
   "source": [
    "# Code\n",
    "import re\n",
    "text = \"The cow jumped over the moon\"\n",
    "pattern = r'\\b(?P<word>\\w+)\\b.*\\b(?P=word)\\b'\n",
    "matches = re.finditer(pattern, text, flags=re.IGNORECASE)\n",
    "for match in matches:\n",
    "    repeated_word = match.group('word')\n",
    "    print(f\"Repeated word: {repeated_word}\")"
   ]
  },
  {
   "cell_type": "markdown",
   "id": "fae38066",
   "metadata": {},
   "source": [
    "Q9. When parsing a string, what is at least one thing that the Scanner interface does for you that the re.findall feature does not?"
   ]
  },
  {
   "cell_type": "markdown",
   "id": "2f374824",
   "metadata": {},
   "source": [
    "Both scanner and re.findall serves different purpose and comes from different programming environments.\n",
    "\n",
    "- Scanner is part of java standard library and is used for parsing inputs into tokens and is associated with reading and processing inout from different sources vs re.findall is feature of python 're' module and is specifically designed for finding all non overlapping matches of a pattern in a string.\n",
    "- Scanner is primarily used for tokenization vs re.findall is used for patterns matching in string. "
   ]
  },
  {
   "cell_type": "markdown",
   "id": "91b9b966",
   "metadata": {},
   "source": [
    "Q10. Does a scanner object have to be named scanner?"
   ]
  },
  {
   "cell_type": "markdown",
   "id": "35bb1bb1",
   "metadata": {},
   "source": [
    "No it's not mandatory to name scanner object to be scanner , instead it totally depends on us regarding the naming convention and we can choose whatever name we want to use as per our readability or choice."
   ]
  }
 ],
 "metadata": {
  "kernelspec": {
   "display_name": "Python 3 (ipykernel)",
   "language": "python",
   "name": "python3"
  },
  "language_info": {
   "codemirror_mode": {
    "name": "ipython",
    "version": 3
   },
   "file_extension": ".py",
   "mimetype": "text/x-python",
   "name": "python",
   "nbconvert_exporter": "python",
   "pygments_lexer": "ipython3",
   "version": "3.11.5"
  }
 },
 "nbformat": 4,
 "nbformat_minor": 5
}
