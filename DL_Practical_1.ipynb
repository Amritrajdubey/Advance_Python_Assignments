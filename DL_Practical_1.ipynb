{
  "nbformat": 4,
  "nbformat_minor": 0,
  "metadata": {
    "colab": {
      "provenance": [],
      "authorship_tag": "ABX9TyOAAuNSiBbJxEAskaVixOcp",
      "include_colab_link": true
    },
    "kernelspec": {
      "name": "python3",
      "display_name": "Python 3"
    },
    "language_info": {
      "name": "python"
    }
  },
  "cells": [
    {
      "cell_type": "markdown",
      "metadata": {
        "id": "view-in-github",
        "colab_type": "text"
      },
      "source": [
        "<a href=\"https://colab.research.google.com/github/Amritrajdubey/Advance_Python_Assignments/blob/main/DL_Practical_1.ipynb\" target=\"_parent\"><img src=\"https://colab.research.google.com/assets/colab-badge.svg\" alt=\"Open In Colab\"/></a>"
      ]
    },
    {
      "cell_type": "markdown",
      "source": [
        "Objective: - Predict Next Sequence\n",
        "To start with deep learning, the very basic project that you can build is to predict the next digit in a sequence.\n",
        "\n",
        "Dataset: - Create a sequence like a list of odd numbers and then build a model and train it to predict the next digit in the sequence.\n",
        "\n",
        "Task: - A simple neural network with 2 layers would be sufficient to build the model.\n",
        "\n",
        "Assignment Submission: - Only submit the Google Colab/Github link.(Make the\n",
        "Link Public)."
      ],
      "metadata": {
        "id": "lPP2ih5ze9sL"
      }
    },
    {
      "cell_type": "code",
      "execution_count": null,
      "metadata": {
        "colab": {
          "base_uri": "https://localhost:8080/"
        },
        "id": "YWc2Ejpxe3id",
        "outputId": "ac5294fc-e3f4-453d-a45a-92eff9f3a360"
      },
      "outputs": [
        {
          "output_type": "stream",
          "name": "stdout",
          "text": [
            "[1, 3, 5, 7, 9, 11, 13, 15, 17, 19, 21, 23, 25, 27, 29, 31, 33, 35, 37, 39, 41, 43, 45, 47, 49]\n"
          ]
        }
      ],
      "source": [
        "# Taking primary dataset of odd numbers\n",
        "Odd_numbers = list(range(1,50,2))\n",
        "print(Odd_numbers)"
      ]
    },
    {
      "cell_type": "code",
      "source": [
        "# Building simple neural network with just 2 layers input layer with 1 neuron and output layer with 1.\n",
        "from keras.models import Sequential\n",
        "from keras.layers import Dense , LSTM\n",
        "\n",
        "model = Sequential()\n",
        "model.add(LSTM(20, input_dim=1, activation='relu')) # Just one neuron as input_dim and using relu as activation function.Using LSTM because of small data Dense is giving error\n",
        "# and using it we deal with the vanishing gradient issue.\n",
        "model.add(Dense(1, activation='linear')) # One output layer with activation function linear\n",
        "model.compile(loss='mse', optimizer='adam') # Using mean sq error as loss function and adam optimizer."
      ],
      "metadata": {
        "id": "Obs6_UbIfDcB"
      },
      "execution_count": null,
      "outputs": []
    },
    {
      "cell_type": "code",
      "source": [
        "# Training the model\n",
        "import numpy as np\n",
        "# Preparing the input and output data\n",
        "X = np.array(Odd_numbers[:-1]).reshape(-1, 1,1) # In input X we will not take last index value and start from 0 index and 0 index input will predict for 0 index output of Y.\n",
        "Y = np.array(Odd_numbers[1:]).reshape(-1, 1) # We will not consider 0 index value as 1st index moving forward will be input to predict next.\n",
        "# Training the model with 1000 epochs so many epochs because dataset is small and with less no of epochs prediction was wrong.\n",
        "model.fit(X,Y, epochs=1000, verbose=0)"
      ],
      "metadata": {
        "colab": {
          "base_uri": "https://localhost:8080/"
        },
        "id": "phQ2XWG6fL9x",
        "outputId": "c14cf920-f0bf-4ea5-93f3-f236f9063773"
      },
      "execution_count": null,
      "outputs": [
        {
          "output_type": "execute_result",
          "data": {
            "text/plain": [
              "<keras.callbacks.History at 0x7fb406be4fa0>"
            ]
          },
          "metadata": {},
          "execution_count": 46
        }
      ]
    },
    {
      "cell_type": "code",
      "source": [
        "# Predicting next numbers\n",
        "Next_number = model.predict(np.array([Odd_numbers[-1]]).reshape(1, 1,1))\n",
        "print(\"Next number in the sequence: \", int(np.round(Next_number[0][0])))"
      ],
      "metadata": {
        "colab": {
          "base_uri": "https://localhost:8080/"
        },
        "id": "dy2KpYm8fkhs",
        "outputId": "f21f0ced-0ac7-49b6-9dae-0375d84aba29"
      },
      "execution_count": null,
      "outputs": [
        {
          "output_type": "stream",
          "name": "stdout",
          "text": [
            "1/1 [==============================] - 0s 28ms/step\n",
            "Next number in the sequence:  51\n"
          ]
        }
      ]
    },
    {
      "cell_type": "code",
      "source": [],
      "metadata": {
        "id": "fiHDJCaxjRFi"
      },
      "execution_count": null,
      "outputs": []
    }
  ]
}