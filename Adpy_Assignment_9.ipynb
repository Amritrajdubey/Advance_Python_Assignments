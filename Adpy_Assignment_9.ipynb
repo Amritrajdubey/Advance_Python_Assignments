{
 "cells": [
  {
   "cell_type": "markdown",
   "id": "7b337fc7",
   "metadata": {},
   "source": [
    "Q1. In Python 3.X, what are the names and functions of string object types?"
   ]
  },
  {
   "cell_type": "markdown",
   "id": "ee9a311c",
   "metadata": {},
   "source": [
    "- Join() = join string together\n",
    "- lower() = convert string to lower case\n",
    "- upper() = convert string to upper case\n",
    "- lstrip() = return left strip version of string"
   ]
  },
  {
   "cell_type": "markdown",
   "id": "94e8fab7",
   "metadata": {},
   "source": [
    "Q2. How do the string forms in Python 3.X vary in terms of operations?\n"
   ]
  },
  {
   "cell_type": "markdown",
   "id": "4d9a0753",
   "metadata": {},
   "source": [
    "In python 3 strings are formed in two ways :\n",
    "    - str type represent a unicode string which store any characters.\n",
    "    - byte type represent sequence of bytes of binary code in which it store values."
   ]
  },
  {
   "cell_type": "markdown",
   "id": "57ef6730",
   "metadata": {},
   "source": [
    "Q3. In 3.X, how do you put non-ASCII Unicode characters in a string?"
   ]
  },
  {
   "cell_type": "markdown",
   "id": "1f223c05",
   "metadata": {},
   "source": [
    "We can put non ASCII unicode character in string by using str type which used unicode to represent characters.\n",
    "- we can use unicode code points to form characters\n",
    "- we can use byte.decode which convert byte string containing utf-8 encoding ."
   ]
  },
  {
   "cell_type": "markdown",
   "id": "c5f93568",
   "metadata": {},
   "source": [
    "Q4. In Python 3.X, what are the key differences between text-mode and binary-mode files?"
   ]
  },
  {
   "cell_type": "markdown",
   "id": "474f10d9",
   "metadata": {},
   "source": [
    "Following are main difference b/w text mode and binary mode files:\n",
    "    - Encoding : Text mode file are assumed to be encoded in specific format , usuallu utf-8 vs binary mode files are available \n",
    "        in binary and written and read in binary form.\n",
    "    - Line ending : Text mode file automatically handel line ending vs binary mode file don't automatically handle it.\n",
    "    - when we read or write in text mode data is returned in string form while in case of binary mode it's is in bytes."
   ]
  },
  {
   "cell_type": "markdown",
   "id": "178478dc",
   "metadata": {},
   "source": [
    "Q5. How can you interpret a Unicode text file containing text encoded in a different encoding than\n",
    "your platform&#39;s default?"
   ]
  },
  {
   "cell_type": "markdown",
   "id": "c10189a3",
   "metadata": {},
   "source": [
    "In order to intercept a unicode text file containing text encoded in different encoding than default platform we need to\n",
    "specify the correct encoding while opening the file.\n",
    "with open(\"myfile.txt\", \"r\", encoding=\"utf-8\") as f:\n",
    "    text = f.read()"
   ]
  },
  {
   "cell_type": "markdown",
   "id": "29680442",
   "metadata": {},
   "source": [
    "Q6. What is the best way to make a Unicode text file in a particular encoding format?"
   ]
  },
  {
   "cell_type": "markdown",
   "id": "98fc201d",
   "metadata": {},
   "source": [
    "It depend on the requirement are tool we are using:\n",
    "    - If using notepad++ , text editor while saving it ask for the format .\n",
    "    - In python we can use open() to create the file and specifies the encoding.\n",
    "    - We can use command line tool iconv to convert one encoding to other."
   ]
  },
  {
   "cell_type": "markdown",
   "id": "7188df41",
   "metadata": {},
   "source": [
    "Q7. What qualifies ASCII text as a form of Unicode text?"
   ]
  },
  {
   "cell_type": "markdown",
   "id": "4de53a3c",
   "metadata": {},
   "source": [
    "ASCII is a character encoding standard that assign unique numerical value to set of 128 characters. all ASCII text are having unique code points in the unicode standard , thus all ASCII text qualifies for unicode text."
   ]
  },
  {
   "cell_type": "markdown",
   "id": "039610d8",
   "metadata": {},
   "source": [
    "Q8. How much of an effect does the change in string types in Python 3.X have on your code?"
   ]
  },
  {
   "cell_type": "markdown",
   "id": "544ae5be",
   "metadata": {},
   "source": [
    "The change in string types in Python 3.X can have an effect on code,if code handles non-ASCII characters or if it depends on the byte-level representation of strings."
   ]
  }
 ],
 "metadata": {
  "kernelspec": {
   "display_name": "Python 3 (ipykernel)",
   "language": "python",
   "name": "python3"
  },
  "language_info": {
   "codemirror_mode": {
    "name": "ipython",
    "version": 3
   },
   "file_extension": ".py",
   "mimetype": "text/x-python",
   "name": "python",
   "nbconvert_exporter": "python",
   "pygments_lexer": "ipython3",
   "version": "3.9.13"
  }
 },
 "nbformat": 4,
 "nbformat_minor": 5
}
